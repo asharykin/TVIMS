{
 "cells": [
  {
   "metadata": {},
   "cell_type": "markdown",
   "source": [
    "# Лабораторная работа №3: Меры связи случайных величин. Интервальные оценки параметров\n",
    "\n",
    "**Выполнил:** Шарыкин Александр Викторович  \n",
    "В качестве источника данных использовался сборник Росстата \"Регионы России. Социально-экономические показатели\" (https://rosstat.gov.ru/folder/210/document/47652)"
   ],
   "id": "650f3b3fdf0cbbc4"
  },
  {
   "metadata": {
    "ExecuteTime": {
     "end_time": "2024-11-19T16:37:18.228892Z",
     "start_time": "2024-11-19T16:37:17.639404Z"
    }
   },
   "cell_type": "code",
   "source": [
    "import pandas as pd\n",
    "from pandas import ExcelFile, DataFrame\n",
    "import matplotlib.pyplot as plt\n",
    "from sklearn.linear_model import LinearRegression\n",
    "from scipy.stats import t\n",
    "from math import sqrt"
   ],
   "id": "d5ed42550b8b1f6b",
   "outputs": [],
   "execution_count": 1
  },
  {
   "metadata": {},
   "cell_type": "markdown",
   "source": [
    "## Часть 1\n",
    "\n",
    "В качестве предполагаемых зависимых признаков возьмём **\"долю населения старше трудоспособного возраста (%)\"** и **\"число умерших на 1000 населения (чел.)\"**."
   ],
   "id": "2914ac4ece9bc133"
  },
  {
   "metadata": {
    "ExecuteTime": {
     "end_time": "2024-11-19T16:37:18.861310Z",
     "start_time": "2024-11-19T16:37:18.228892Z"
    }
   },
   "cell_type": "code",
   "source": [
    "xlsx = ExcelFile(\"Razdel 1 - Naselenie.xlsx\")\n",
    "df1 = pd.read_excel(xlsx, sheet_name=\"1.6.3.\") # Доля населения старше трудоспособного возраста\n",
    "\n",
    "# Приведём данные к анализируемому виду\n",
    "first_row_num = df1[df1[df1.columns[0]] == \"Белгородская область\"].index[0]\n",
    "last_row_num = df1[df1[df1.columns[0]] == \"Чукотский автономный округ\"].index[0]\n",
    "df1 = df1.iloc[first_row_num:last_row_num+1]\n",
    "df1 = df1[~df1[df1.columns[0]].isin([\"Архангельская область\", \"Тюменская область\", \"в том числе:\"])]\n",
    "df1 = df1[~df1[df1.columns[0]].str.contains(\"федеральный округ\")]\n",
    "df1 = df1[[df1.columns[0], df1.columns[-1]]]\n",
    "df1 = df1.set_axis([\"Регион\", \"Значение в 2022\"], axis=1)\n",
    "df1 = df1.reset_index(drop=True).dropna()\n",
    "df1"
   ],
   "id": "fd1277a433ef21f",
   "outputs": [
    {
     "data": {
      "text/plain": [
       "                          Регион  Значение в 2022\n",
       "0           Белгородская область             26.9\n",
       "1               Брянская область             26.8\n",
       "2           Владимирская область             28.3\n",
       "3            Воронежская область             27.6\n",
       "4             Ивановская область             28.3\n",
       "..                           ...              ...\n",
       "80              Амурская область             21.5\n",
       "81           Магаданская область             19.8\n",
       "82           Сахалинская область             23.5\n",
       "83  Еврейская автономная область             22.3\n",
       "84    Чукотский автономный округ             13.6\n",
       "\n",
       "[85 rows x 2 columns]"
      ],
      "text/html": [
       "<div>\n",
       "<style scoped>\n",
       "    .dataframe tbody tr th:only-of-type {\n",
       "        vertical-align: middle;\n",
       "    }\n",
       "\n",
       "    .dataframe tbody tr th {\n",
       "        vertical-align: top;\n",
       "    }\n",
       "\n",
       "    .dataframe thead th {\n",
       "        text-align: right;\n",
       "    }\n",
       "</style>\n",
       "<table border=\"1\" class=\"dataframe\">\n",
       "  <thead>\n",
       "    <tr style=\"text-align: right;\">\n",
       "      <th></th>\n",
       "      <th>Регион</th>\n",
       "      <th>Значение в 2022</th>\n",
       "    </tr>\n",
       "  </thead>\n",
       "  <tbody>\n",
       "    <tr>\n",
       "      <th>0</th>\n",
       "      <td>Белгородская область</td>\n",
       "      <td>26.9</td>\n",
       "    </tr>\n",
       "    <tr>\n",
       "      <th>1</th>\n",
       "      <td>Брянская область</td>\n",
       "      <td>26.8</td>\n",
       "    </tr>\n",
       "    <tr>\n",
       "      <th>2</th>\n",
       "      <td>Владимирская область</td>\n",
       "      <td>28.3</td>\n",
       "    </tr>\n",
       "    <tr>\n",
       "      <th>3</th>\n",
       "      <td>Воронежская область</td>\n",
       "      <td>27.6</td>\n",
       "    </tr>\n",
       "    <tr>\n",
       "      <th>4</th>\n",
       "      <td>Ивановская область</td>\n",
       "      <td>28.3</td>\n",
       "    </tr>\n",
       "    <tr>\n",
       "      <th>...</th>\n",
       "      <td>...</td>\n",
       "      <td>...</td>\n",
       "    </tr>\n",
       "    <tr>\n",
       "      <th>80</th>\n",
       "      <td>Амурская область</td>\n",
       "      <td>21.5</td>\n",
       "    </tr>\n",
       "    <tr>\n",
       "      <th>81</th>\n",
       "      <td>Магаданская область</td>\n",
       "      <td>19.8</td>\n",
       "    </tr>\n",
       "    <tr>\n",
       "      <th>82</th>\n",
       "      <td>Сахалинская область</td>\n",
       "      <td>23.5</td>\n",
       "    </tr>\n",
       "    <tr>\n",
       "      <th>83</th>\n",
       "      <td>Еврейская автономная область</td>\n",
       "      <td>22.3</td>\n",
       "    </tr>\n",
       "    <tr>\n",
       "      <th>84</th>\n",
       "      <td>Чукотский автономный округ</td>\n",
       "      <td>13.6</td>\n",
       "    </tr>\n",
       "  </tbody>\n",
       "</table>\n",
       "<p>85 rows × 2 columns</p>\n",
       "</div>"
      ]
     },
     "execution_count": 2,
     "metadata": {},
     "output_type": "execute_result"
    }
   ],
   "execution_count": 2
  },
  {
   "metadata": {
    "ExecuteTime": {
     "end_time": "2024-11-19T16:37:19.108455Z",
     "start_time": "2024-11-19T16:37:18.861310Z"
    }
   },
   "cell_type": "code",
   "source": [
    "xlsx = ExcelFile(\"Razdel 1 - Naselenie.xlsx\")\n",
    "df2 = pd.read_excel(xlsx, sheet_name=\"1.10.\") # Число умерших на 1000 населения\n",
    "\n",
    "# Приведём данные к анализируемому виду\n",
    "first_row_num = df2[df2[df2.columns[0]] == \"Белгородская область\"].index[0]\n",
    "last_row_num = df2[df2[df2.columns[0]] == \"Чукотский автономный округ\"].index[0]\n",
    "df2 = df2.iloc[first_row_num:last_row_num+1]\n",
    "df2 = df2[~df2[df2.columns[0]].isin([\"Архангельская область\", \"Тюменская область\", \"в том числе:\"])]\n",
    "df2 = df2[~df2[df2.columns[0]].str.contains(\"федеральный округ\")]\n",
    "df2 = df2[[df2.columns[0], df2.columns[-1]]]\n",
    "df2 = df2.set_axis([\"Регион\", \"Значение в 2022\"], axis=1)\n",
    "df2 = df2.reset_index(drop=True).dropna()\n",
    "df2"
   ],
   "id": "df1a7325bf9d676f",
   "outputs": [
    {
     "data": {
      "text/plain": [
       "                          Регион  Значение в 2022\n",
       "0           Белгородская область             14.2\n",
       "1               Брянская область             15.6\n",
       "2           Владимирская область             16.8\n",
       "3            Воронежская область             15.3\n",
       "4             Ивановская область             17.3\n",
       "..                           ...              ...\n",
       "80              Амурская область             14.8\n",
       "81           Магаданская область             12.7\n",
       "82           Сахалинская область             13.8\n",
       "83  Еврейская автономная область             15.2\n",
       "84    Чукотский автономный округ             10.2\n",
       "\n",
       "[85 rows x 2 columns]"
      ],
      "text/html": [
       "<div>\n",
       "<style scoped>\n",
       "    .dataframe tbody tr th:only-of-type {\n",
       "        vertical-align: middle;\n",
       "    }\n",
       "\n",
       "    .dataframe tbody tr th {\n",
       "        vertical-align: top;\n",
       "    }\n",
       "\n",
       "    .dataframe thead th {\n",
       "        text-align: right;\n",
       "    }\n",
       "</style>\n",
       "<table border=\"1\" class=\"dataframe\">\n",
       "  <thead>\n",
       "    <tr style=\"text-align: right;\">\n",
       "      <th></th>\n",
       "      <th>Регион</th>\n",
       "      <th>Значение в 2022</th>\n",
       "    </tr>\n",
       "  </thead>\n",
       "  <tbody>\n",
       "    <tr>\n",
       "      <th>0</th>\n",
       "      <td>Белгородская область</td>\n",
       "      <td>14.2</td>\n",
       "    </tr>\n",
       "    <tr>\n",
       "      <th>1</th>\n",
       "      <td>Брянская область</td>\n",
       "      <td>15.6</td>\n",
       "    </tr>\n",
       "    <tr>\n",
       "      <th>2</th>\n",
       "      <td>Владимирская область</td>\n",
       "      <td>16.8</td>\n",
       "    </tr>\n",
       "    <tr>\n",
       "      <th>3</th>\n",
       "      <td>Воронежская область</td>\n",
       "      <td>15.3</td>\n",
       "    </tr>\n",
       "    <tr>\n",
       "      <th>4</th>\n",
       "      <td>Ивановская область</td>\n",
       "      <td>17.3</td>\n",
       "    </tr>\n",
       "    <tr>\n",
       "      <th>...</th>\n",
       "      <td>...</td>\n",
       "      <td>...</td>\n",
       "    </tr>\n",
       "    <tr>\n",
       "      <th>80</th>\n",
       "      <td>Амурская область</td>\n",
       "      <td>14.8</td>\n",
       "    </tr>\n",
       "    <tr>\n",
       "      <th>81</th>\n",
       "      <td>Магаданская область</td>\n",
       "      <td>12.7</td>\n",
       "    </tr>\n",
       "    <tr>\n",
       "      <th>82</th>\n",
       "      <td>Сахалинская область</td>\n",
       "      <td>13.8</td>\n",
       "    </tr>\n",
       "    <tr>\n",
       "      <th>83</th>\n",
       "      <td>Еврейская автономная область</td>\n",
       "      <td>15.2</td>\n",
       "    </tr>\n",
       "    <tr>\n",
       "      <th>84</th>\n",
       "      <td>Чукотский автономный округ</td>\n",
       "      <td>10.2</td>\n",
       "    </tr>\n",
       "  </tbody>\n",
       "</table>\n",
       "<p>85 rows × 2 columns</p>\n",
       "</div>"
      ]
     },
     "execution_count": 3,
     "metadata": {},
     "output_type": "execute_result"
    }
   ],
   "execution_count": 3
  },
  {
   "metadata": {},
   "cell_type": "markdown",
   "source": "Найдём коэффициент корреляции:",
   "id": "d660425e8755e4b"
  },
  {
   "metadata": {
    "ExecuteTime": {
     "end_time": "2024-11-19T16:37:19.116725Z",
     "start_time": "2024-11-19T16:37:19.108455Z"
    }
   },
   "cell_type": "code",
   "source": [
    "r = df2[\"Значение в 2022\"].corr(df1[\"Значение в 2022\"])\n",
    "print(f\"Коэффициент корреляции между признаками: {round(r, 4)}\")"
   ],
   "id": "ae5d35d683a472cb",
   "outputs": [
    {
     "name": "stdout",
     "output_type": "stream",
     "text": [
      "Коэффициент корреляции между признаками: 0.8679\n"
     ]
    }
   ],
   "execution_count": 4
  },
  {
   "metadata": {},
   "cell_type": "markdown",
   "source": "Рассчитанное значение коэффициента корреляции позволяет говорить о наличии **высокой положительной связи** между признаками.",
   "id": "4856a8bd31b7a523"
  },
  {
   "metadata": {},
   "cell_type": "markdown",
   "source": "Построим линейную регрессионную модель и найдём величину достоверности аппроксимации (R^2). Для случая парной регрессии (с константой) она будет равен коэффициенту корреляции в квадрате:",
   "id": "32836c5bc0e883cc"
  },
  {
   "metadata": {
    "ExecuteTime": {
     "end_time": "2024-11-19T16:37:19.136462Z",
     "start_time": "2024-11-19T16:37:19.116725Z"
    }
   },
   "cell_type": "code",
   "source": [
    "x = df1[[\"Значение в 2022\"]]\n",
    "y = df2[\"Значение в 2022\"]\n",
    "model = LinearRegression()\n",
    "model.fit(x, y)\n",
    "y_pred = model.predict(x)\n",
    "r_squared = model.score(x, y)\n",
    "print(f\"Величина достоверности аппроксимации (R^2): {round(r_squared, 4)}. Коэффициент корреляции в квадрате: {round(r**2, 4)}\")"
   ],
   "id": "28a6f92da411a090",
   "outputs": [
    {
     "name": "stdout",
     "output_type": "stream",
     "text": [
      "Величина достоверности аппроксимации (R^2): 0.7532. Коэффициент корреляции в квадрате: 0.7532\n"
     ]
    }
   ],
   "execution_count": 5
  },
  {
   "metadata": {},
   "cell_type": "markdown",
   "source": "Построим диаграмму рассеяния для признаков с линией аппроксимации:",
   "id": "a414f41db94b3574"
  },
  {
   "metadata": {
    "ExecuteTime": {
     "end_time": "2024-11-19T16:37:19.525356Z",
     "start_time": "2024-11-19T16:37:19.136462Z"
    }
   },
   "cell_type": "code",
   "source": [
    "plt.scatter(x, y, color='blue')\n",
    "plt.plot(x, y_pred, color='red', label='Линия аппроксимации')\n",
    "plt.xlabel(\"1.6.3. ДОЛЯ НАСЕЛЕНИЯ СТАРШЕ ТРУДОСПОСОБНОГО ВОЗРАСТА (%)\")\n",
    "plt.ylabel(\"1.10. ЧИСЛО УМЕРШИХ НА 1000 НАСЕЛЕНИЯ (чел.)\")\n",
    "plt.show()"
   ],
   "id": "7a7c0414bdfa76e3",
   "outputs": [
    {
     "data": {
      "text/plain": [
       "<Figure size 640x480 with 1 Axes>"
      ],
      "image/png": "[encoded data removed]"
     },
     "metadata": {},
     "output_type": "display_data"
    }
   ],
   "execution_count": 6
  },
  {
   "metadata": {},
   "cell_type": "markdown",
   "source": [
    "## Часть 2\n",
    "В качестве генеральной совокупности возьмём **\"удельный вес городского населения в общей численности населения (%)\"**."
   ],
   "id": "15b5d5b62205e363"
  },
  {
   "metadata": {
    "ExecuteTime": {
     "end_time": "2024-11-19T16:37:19.757368Z",
     "start_time": "2024-11-19T16:37:19.525356Z"
    }
   },
   "cell_type": "code",
   "source": [
    "xlsx = ExcelFile(\"Razdel 1 - Naselenie.xlsx\")\n",
    "df = pd.read_excel(xlsx, sheet_name=\"1.3.\")\n",
    "first_row_num = df[df[df.columns[0]] == \"Белгородская область\"].index[0]\n",
    "last_row_num = df[df[df.columns[0]] == \"Чукотский автономный округ\"].index[0]\n",
    "df = df.iloc[first_row_num:last_row_num + 1]\n",
    "df = df[[df.columns[0], df.columns[-1]]]\n",
    "df = df.set_axis(['Регион', 'Значение в 2022'], axis=1)\n",
    "df = df[~df[df.columns[0]].isin([\"Архангельская область\", \"Тюменская область\", \"в том числе:\"])]\n",
    "df = df.dropna().reset_index(drop=True)"
   ],
   "id": "349cfc16518825d0",
   "outputs": [],
   "execution_count": 7
  },
  {
   "metadata": {
    "ExecuteTime": {
     "end_time": "2024-11-19T16:37:19.773513Z",
     "start_time": "2024-11-19T16:37:19.757368Z"
    }
   },
   "cell_type": "code",
   "source": [
    "df_pop = df[~df[df.columns[0]].str.contains(\"федеральный округ\")]\n",
    "size_pop = len(df_pop)\n",
    "col_pop = df_pop[\"Значение в 2022\"]\n",
    "mean_pop = col_pop.mean()\n",
    "df_pop"
   ],
   "id": "f35c6bfbc9ef3028",
   "outputs": [
    {
     "data": {
      "text/plain": [
       "                          Регион  Значение в 2022\n",
       "0           Белгородская область             65.4\n",
       "1               Брянская область             69.6\n",
       "2           Владимирская область             77.6\n",
       "3            Воронежская область             68.5\n",
       "4             Ивановская область             82.1\n",
       "..                           ...              ...\n",
       "87              Амурская область             68.4\n",
       "88           Магаданская область             96.5\n",
       "89           Сахалинская область             82.6\n",
       "90  Еврейская автономная область             70.8\n",
       "91    Чукотский автономный округ             69.1\n",
       "\n",
       "[85 rows x 2 columns]"
      ],
      "text/html": [
       "<div>\n",
       "<style scoped>\n",
       "    .dataframe tbody tr th:only-of-type {\n",
       "        vertical-align: middle;\n",
       "    }\n",
       "\n",
       "    .dataframe tbody tr th {\n",
       "        vertical-align: top;\n",
       "    }\n",
       "\n",
       "    .dataframe thead th {\n",
       "        text-align: right;\n",
       "    }\n",
       "</style>\n",
       "<table border=\"1\" class=\"dataframe\">\n",
       "  <thead>\n",
       "    <tr style=\"text-align: right;\">\n",
       "      <th></th>\n",
       "      <th>Регион</th>\n",
       "      <th>Значение в 2022</th>\n",
       "    </tr>\n",
       "  </thead>\n",
       "  <tbody>\n",
       "    <tr>\n",
       "      <th>0</th>\n",
       "      <td>Белгородская область</td>\n",
       "      <td>65.4</td>\n",
       "    </tr>\n",
       "    <tr>\n",
       "      <th>1</th>\n",
       "      <td>Брянская область</td>\n",
       "      <td>69.6</td>\n",
       "    </tr>\n",
       "    <tr>\n",
       "      <th>2</th>\n",
       "      <td>Владимирская область</td>\n",
       "      <td>77.6</td>\n",
       "    </tr>\n",
       "    <tr>\n",
       "      <th>3</th>\n",
       "      <td>Воронежская область</td>\n",
       "      <td>68.5</td>\n",
       "    </tr>\n",
       "    <tr>\n",
       "      <th>4</th>\n",
       "      <td>Ивановская область</td>\n",
       "      <td>82.1</td>\n",
       "    </tr>\n",
       "    <tr>\n",
       "      <th>...</th>\n",
       "      <td>...</td>\n",
       "      <td>...</td>\n",
       "    </tr>\n",
       "    <tr>\n",
       "      <th>87</th>\n",
       "      <td>Амурская область</td>\n",
       "      <td>68.4</td>\n",
       "    </tr>\n",
       "    <tr>\n",
       "      <th>88</th>\n",
       "      <td>Магаданская область</td>\n",
       "      <td>96.5</td>\n",
       "    </tr>\n",
       "    <tr>\n",
       "      <th>89</th>\n",
       "      <td>Сахалинская область</td>\n",
       "      <td>82.6</td>\n",
       "    </tr>\n",
       "    <tr>\n",
       "      <th>90</th>\n",
       "      <td>Еврейская автономная область</td>\n",
       "      <td>70.8</td>\n",
       "    </tr>\n",
       "    <tr>\n",
       "      <th>91</th>\n",
       "      <td>Чукотский автономный округ</td>\n",
       "      <td>69.1</td>\n",
       "    </tr>\n",
       "  </tbody>\n",
       "</table>\n",
       "<p>85 rows × 2 columns</p>\n",
       "</div>"
      ]
     },
     "execution_count": 8,
     "metadata": {},
     "output_type": "execute_result"
    }
   ],
   "execution_count": 8
  },
  {
   "metadata": {},
   "cell_type": "markdown",
   "source": [
    "### Случайная выборка\n",
    "Сделаем полностью случайную выборку, составляющую 1/3 от генеральной совокупности:"
   ],
   "id": "a2c1e06d768a4879"
  },
  {
   "metadata": {
    "ExecuteTime": {
     "end_time": "2024-11-19T16:37:19.800259Z",
     "start_time": "2024-11-19T16:37:19.773513Z"
    }
   },
   "cell_type": "code",
   "source": [
    "size_sample = round(1/3 * size_pop)\n",
    "df_sample = df_pop.sample(size_sample).reset_index(drop=True)\n",
    "df_sample"
   ],
   "id": "715cfa3c5ea2e2d8",
   "outputs": [
    {
     "data": {
      "text/plain": [
       "                                          Регион  Значение в 2022\n",
       "0                             Курганская область             64.2\n",
       "1                                 Алтайский край             58.3\n",
       "2                            Ставропольский край             60.7\n",
       "3                               Брянская область             69.6\n",
       "4                Кабардино-Балкарская Республика             51.8\n",
       "5                            Челябинская область             82.6\n",
       "6            Республика Северная Осетия - Алания             63.2\n",
       "7                           Новгородская область             73.1\n",
       "8                       Республика Саха (Якутия)             67.2\n",
       "9                            Республика Марий Эл             68.8\n",
       "10                           Республика Калмыкия             47.0\n",
       "11                             Хабаровский край              83.5\n",
       "12                          Владимирская область             77.6\n",
       "13                         Удмуртская Республика             65.8\n",
       "14                            г. Санкт-Петербург            100.0\n",
       "15                            Мурманская область             93.0\n",
       "16  Архангельская область без автономного округа             77.8\n",
       "17                             Орловская область             66.6\n",
       "18      Тюменская область без автономных округов             67.7\n",
       "19                  Еврейская автономная область             70.8\n",
       "20                           Республика Мордовия             63.6\n",
       "21                            Ивановская область             82.1\n",
       "22                       Калининградская область             76.6\n",
       "23              Ямало-Ненецкий  автономный округ             84.7\n",
       "24                               Республика Тыва             55.3\n",
       "25                                     г. Москва            100.0\n",
       "26                            Московская область             78.3\n",
       "27                              Тверская область             76.3"
      ],
      "text/html": [
       "<div>\n",
       "<style scoped>\n",
       "    .dataframe tbody tr th:only-of-type {\n",
       "        vertical-align: middle;\n",
       "    }\n",
       "\n",
       "    .dataframe tbody tr th {\n",
       "        vertical-align: top;\n",
       "    }\n",
       "\n",
       "    .dataframe thead th {\n",
       "        text-align: right;\n",
       "    }\n",
       "</style>\n",
       "<table border=\"1\" class=\"dataframe\">\n",
       "  <thead>\n",
       "    <tr style=\"text-align: right;\">\n",
       "      <th></th>\n",
       "      <th>Регион</th>\n",
       "      <th>Значение в 2022</th>\n",
       "    </tr>\n",
       "  </thead>\n",
       "  <tbody>\n",
       "    <tr>\n",
       "      <th>0</th>\n",
       "      <td>Курганская область</td>\n",
       "      <td>64.2</td>\n",
       "    </tr>\n",
       "    <tr>\n",
       "      <th>1</th>\n",
       "      <td>Алтайский край</td>\n",
       "      <td>58.3</td>\n",
       "    </tr>\n",
       "    <tr>\n",
       "      <th>2</th>\n",
       "      <td>Ставропольский край</td>\n",
       "      <td>60.7</td>\n",
       "    </tr>\n",
       "    <tr>\n",
       "      <th>3</th>\n",
       "      <td>Брянская область</td>\n",
       "      <td>69.6</td>\n",
       "    </tr>\n",
       "    <tr>\n",
       "      <th>4</th>\n",
       "      <td>Кабардино-Балкарская Республика</td>\n",
       "      <td>51.8</td>\n",
       "    </tr>\n",
       "    <tr>\n",
       "      <th>5</th>\n",
       "      <td>Челябинская область</td>\n",
       "      <td>82.6</td>\n",
       "    </tr>\n",
       "    <tr>\n",
       "      <th>6</th>\n",
       "      <td>Республика Северная Осетия - Алания</td>\n",
       "      <td>63.2</td>\n",
       "    </tr>\n",
       "    <tr>\n",
       "      <th>7</th>\n",
       "      <td>Новгородская область</td>\n",
       "      <td>73.1</td>\n",
       "    </tr>\n",
       "    <tr>\n",
       "      <th>8</th>\n",
       "      <td>Республика Саха (Якутия)</td>\n",
       "      <td>67.2</td>\n",
       "    </tr>\n",
       "    <tr>\n",
       "      <th>9</th>\n",
       "      <td>Республика Марий Эл</td>\n",
       "      <td>68.8</td>\n",
       "    </tr>\n",
       "    <tr>\n",
       "      <th>10</th>\n",
       "      <td>Республика Калмыкия</td>\n",
       "      <td>47.0</td>\n",
       "    </tr>\n",
       "    <tr>\n",
       "      <th>11</th>\n",
       "      <td>Хабаровский край</td>\n",
       "      <td>83.5</td>\n",
       "    </tr>\n",
       "    <tr>\n",
       "      <th>12</th>\n",
       "      <td>Владимирская область</td>\n",
       "      <td>77.6</td>\n",
       "    </tr>\n",
       "    <tr>\n",
       "      <th>13</th>\n",
       "      <td>Удмуртская Республика</td>\n",
       "      <td>65.8</td>\n",
       "    </tr>\n",
       "    <tr>\n",
       "      <th>14</th>\n",
       "      <td>г. Санкт-Петербург</td>\n",
       "      <td>100.0</td>\n",
       "    </tr>\n",
       "    <tr>\n",
       "      <th>15</th>\n",
       "      <td>Мурманская область</td>\n",
       "      <td>93.0</td>\n",
       "    </tr>\n",
       "    <tr>\n",
       "      <th>16</th>\n",
       "      <td>Архангельская область без автономного округа</td>\n",
       "      <td>77.8</td>\n",
       "    </tr>\n",
       "    <tr>\n",
       "      <th>17</th>\n",
       "      <td>Орловская область</td>\n",
       "      <td>66.6</td>\n",
       "    </tr>\n",
       "    <tr>\n",
       "      <th>18</th>\n",
       "      <td>Тюменская область без автономных округов</td>\n",
       "      <td>67.7</td>\n",
       "    </tr>\n",
       "    <tr>\n",
       "      <th>19</th>\n",
       "      <td>Еврейская автономная область</td>\n",
       "      <td>70.8</td>\n",
       "    </tr>\n",
       "    <tr>\n",
       "      <th>20</th>\n",
       "      <td>Республика Мордовия</td>\n",
       "      <td>63.6</td>\n",
       "    </tr>\n",
       "    <tr>\n",
       "      <th>21</th>\n",
       "      <td>Ивановская область</td>\n",
       "      <td>82.1</td>\n",
       "    </tr>\n",
       "    <tr>\n",
       "      <th>22</th>\n",
       "      <td>Калининградская область</td>\n",
       "      <td>76.6</td>\n",
       "    </tr>\n",
       "    <tr>\n",
       "      <th>23</th>\n",
       "      <td>Ямало-Ненецкий  автономный округ</td>\n",
       "      <td>84.7</td>\n",
       "    </tr>\n",
       "    <tr>\n",
       "      <th>24</th>\n",
       "      <td>Республика Тыва</td>\n",
       "      <td>55.3</td>\n",
       "    </tr>\n",
       "    <tr>\n",
       "      <th>25</th>\n",
       "      <td>г. Москва</td>\n",
       "      <td>100.0</td>\n",
       "    </tr>\n",
       "    <tr>\n",
       "      <th>26</th>\n",
       "      <td>Московская область</td>\n",
       "      <td>78.3</td>\n",
       "    </tr>\n",
       "    <tr>\n",
       "      <th>27</th>\n",
       "      <td>Тверская область</td>\n",
       "      <td>76.3</td>\n",
       "    </tr>\n",
       "  </tbody>\n",
       "</table>\n",
       "</div>"
      ]
     },
     "execution_count": 9,
     "metadata": {},
     "output_type": "execute_result"
    }
   ],
   "execution_count": 9
  },
  {
   "metadata": {},
   "cell_type": "markdown",
   "source": "Сравним среднее по генеральной совокупности и по случайной выборке:",
   "id": "600c2e855d2ec5c9"
  },
  {
   "metadata": {
    "ExecuteTime": {
     "end_time": "2024-11-19T16:37:19.819560Z",
     "start_time": "2024-11-19T16:37:19.800259Z"
    }
   },
   "cell_type": "code",
   "source": [
    "col_sample = df_sample[\"Значение в 2022\"]\n",
    "mean_sample = col_sample.mean()\n",
    "std_sample = col_sample.std()\n",
    "print(f\"Среднее по генеральной совокупности: {round(mean_pop, 2)}\")\n",
    "print(f\"Среднее по случайной выборке: {round(mean_sample, 2)}\")\n",
    "if mean_pop < mean_sample:\n",
    "    print(f\"Генеральное среднее меньше выборочного\")\n",
    "else:\n",
    "    print(f\"Генеральное среднее больше выборочного\")"
   ],
   "id": "f4a0fb2bfdf0acd1",
   "outputs": [
    {
     "name": "stdout",
     "output_type": "stream",
     "text": [
      "Среднее по генеральной совокупности: 70.9\n",
      "Среднее по случайной выборке: 72.36\n",
      "Генеральное среднее меньше выборочного\n"
     ]
    }
   ],
   "execution_count": 10
  },
  {
   "metadata": {},
   "cell_type": "markdown",
   "source": "Построим на основе случайной выборки доверительные интервалы для генерального среднего для разных уровней доверия и посмотрим, попадает ли оно в них:",
   "id": "dea36e1f826ae80c"
  },
  {
   "metadata": {
    "ExecuteTime": {
     "end_time": "2024-11-19T16:37:19.836566Z",
     "start_time": "2024-11-19T16:37:19.819560Z"
    }
   },
   "cell_type": "code",
   "source": [
    "for gamma in (0.99, 0.95, 0.90):\n",
    "    t_crit = t.ppf((1+gamma)/2, size_sample-1)\n",
    "    delta = t_crit * std_sample / sqrt(size_sample) * sqrt((size_pop - size_sample) / (size_pop - 1))\n",
    "    left = mean_sample - delta\n",
    "    right = mean_sample + delta\n",
    "    print(f\"{round(gamma*100)}%-й доверительный интервал для генерального среднего: ({round(left, 2)}, {round(right, 2)})\")\n",
    "    if left < mean_pop < right:\n",
    "        print(f\"Генеральное среднее попадает в {round(gamma*100)}%-й доверительный интервал\")\n",
    "    else:\n",
    "        print(f\"Генеральное среднее не попадает в {round(gamma*100)}%-й доверительный интервал\")"
   ],
   "id": "253dd95b86b7494a",
   "outputs": [
    {
     "name": "stdout",
     "output_type": "stream",
     "text": [
      "99%-й доверительный интервал для генерального среднего: (66.72, 78.01)\n",
      "Генеральное среднее попадает в 99%-й доверительный интервал\n",
      "95%-й доверительный интервал для генерального среднего: (68.19, 76.54)\n",
      "Генеральное среднее попадает в 95%-й доверительный интервал\n",
      "90%-й доверительный интервал для генерального среднего: (68.9, 75.83)\n",
      "Генеральное среднее попадает в 90%-й доверительный интервал\n"
     ]
    }
   ],
   "execution_count": 11
  },
  {
   "metadata": {},
   "cell_type": "markdown",
   "source": [
    "### Cтратифицированная выборка\n",
    "Сделаем стратифицированную выборку по федеральным округам, составляющую 1/3 от генеральной совокупности. Из каждого федерального округа будут случайным образом выбраны несколько регионов, причём их число будет пропорциональное доле, которую составляют регионы этого округа в общем количестве регионов в РФ:"
   ],
   "id": "d29a0c314627c4b8"
  },
  {
   "metadata": {
    "ExecuteTime": {
     "end_time": "2024-11-19T16:37:19.877774Z",
     "start_time": "2024-11-19T16:37:19.836566Z"
    }
   },
   "cell_type": "code",
   "source": [
    "df_sample = DataFrame()\n",
    "indexes = df[df[df.columns[0]].str.contains(\"федеральный округ\")].index.tolist()\n",
    "indexes.append(df.index[-1])\n",
    "start_index = 0\n",
    "for index in indexes:\n",
    "    df_district = df.iloc[start_index:index]\n",
    "    size_district = len(df_district)\n",
    "    sample_size_district = round(size_district/size_pop * size_sample)\n",
    "    df_sample = df_sample._append(df_district.sample(sample_size_district), ignore_index=True)\n",
    "    start_index = index + 1\n",
    "df_sample"
   ],
   "id": "66d5ab2563fa9dc4",
   "outputs": [
    {
     "data": {
      "text/plain": [
       "                                          Регион  Значение в 2022\n",
       "0                               Липецкая область             63.0\n",
       "1                             Тамбовская область             60.4\n",
       "2                               Брянская область             69.6\n",
       "3                               Тульская область             73.2\n",
       "4                           Владимирская область             77.6\n",
       "5                            Воронежская область             68.5\n",
       "6                            Вологодская область             72.5\n",
       "7   Архангельская область без автономного округа             77.8\n",
       "8                             Республика Карелия             79.7\n",
       "9                                Республика Коми             77.7\n",
       "10                          Астраханская область             64.1\n",
       "11                           Республика Калмыкия             47.0\n",
       "12                                г. Севастополь             92.5\n",
       "13                           Ставропольский край             60.7\n",
       "14               Карачаево-Черкесская Республика             41.4\n",
       "15                           Республика Мордовия             63.6\n",
       "16                           Республика Марий Эл             68.8\n",
       "17                          Республика Татарстан             76.8\n",
       "18                        Нижегородская область              80.0\n",
       "19                           Саратовская область             76.8\n",
       "20                         Свердловская область              85.8\n",
       "21                           Челябинская область             82.6\n",
       "22                             Красноярский край             79.6\n",
       "23                                Алтайский край             58.3\n",
       "24                        Новосибирская область              79.7\n",
       "25                           Магаданская область             96.5\n",
       "26                             Хабаровский край              83.5\n",
       "27                              Амурская область             68.4"
      ],
      "text/html": [
       "<div>\n",
       "<style scoped>\n",
       "    .dataframe tbody tr th:only-of-type {\n",
       "        vertical-align: middle;\n",
       "    }\n",
       "\n",
       "    .dataframe tbody tr th {\n",
       "        vertical-align: top;\n",
       "    }\n",
       "\n",
       "    .dataframe thead th {\n",
       "        text-align: right;\n",
       "    }\n",
       "</style>\n",
       "<table border=\"1\" class=\"dataframe\">\n",
       "  <thead>\n",
       "    <tr style=\"text-align: right;\">\n",
       "      <th></th>\n",
       "      <th>Регион</th>\n",
       "      <th>Значение в 2022</th>\n",
       "    </tr>\n",
       "  </thead>\n",
       "  <tbody>\n",
       "    <tr>\n",
       "      <th>0</th>\n",
       "      <td>Липецкая область</td>\n",
       "      <td>63.0</td>\n",
       "    </tr>\n",
       "    <tr>\n",
       "      <th>1</th>\n",
       "      <td>Тамбовская область</td>\n",
       "      <td>60.4</td>\n",
       "    </tr>\n",
       "    <tr>\n",
       "      <th>2</th>\n",
       "      <td>Брянская область</td>\n",
       "      <td>69.6</td>\n",
       "    </tr>\n",
       "    <tr>\n",
       "      <th>3</th>\n",
       "      <td>Тульская область</td>\n",
       "      <td>73.2</td>\n",
       "    </tr>\n",
       "    <tr>\n",
       "      <th>4</th>\n",
       "      <td>Владимирская область</td>\n",
       "      <td>77.6</td>\n",
       "    </tr>\n",
       "    <tr>\n",
       "      <th>5</th>\n",
       "      <td>Воронежская область</td>\n",
       "      <td>68.5</td>\n",
       "    </tr>\n",
       "    <tr>\n",
       "      <th>6</th>\n",
       "      <td>Вологодская область</td>\n",
       "      <td>72.5</td>\n",
       "    </tr>\n",
       "    <tr>\n",
       "      <th>7</th>\n",
       "      <td>Архангельская область без автономного округа</td>\n",
       "      <td>77.8</td>\n",
       "    </tr>\n",
       "    <tr>\n",
       "      <th>8</th>\n",
       "      <td>Республика Карелия</td>\n",
       "      <td>79.7</td>\n",
       "    </tr>\n",
       "    <tr>\n",
       "      <th>9</th>\n",
       "      <td>Республика Коми</td>\n",
       "      <td>77.7</td>\n",
       "    </tr>\n",
       "    <tr>\n",
       "      <th>10</th>\n",
       "      <td>Астраханская область</td>\n",
       "      <td>64.1</td>\n",
       "    </tr>\n",
       "    <tr>\n",
       "      <th>11</th>\n",
       "      <td>Республика Калмыкия</td>\n",
       "      <td>47.0</td>\n",
       "    </tr>\n",
       "    <tr>\n",
       "      <th>12</th>\n",
       "      <td>г. Севастополь</td>\n",
       "      <td>92.5</td>\n",
       "    </tr>\n",
       "    <tr>\n",
       "      <th>13</th>\n",
       "      <td>Ставропольский край</td>\n",
       "      <td>60.7</td>\n",
       "    </tr>\n",
       "    <tr>\n",
       "      <th>14</th>\n",
       "      <td>Карачаево-Черкесская Республика</td>\n",
       "      <td>41.4</td>\n",
       "    </tr>\n",
       "    <tr>\n",
       "      <th>15</th>\n",
       "      <td>Республика Мордовия</td>\n",
       "      <td>63.6</td>\n",
       "    </tr>\n",
       "    <tr>\n",
       "      <th>16</th>\n",
       "      <td>Республика Марий Эл</td>\n",
       "      <td>68.8</td>\n",
       "    </tr>\n",
       "    <tr>\n",
       "      <th>17</th>\n",
       "      <td>Республика Татарстан</td>\n",
       "      <td>76.8</td>\n",
       "    </tr>\n",
       "    <tr>\n",
       "      <th>18</th>\n",
       "      <td>Нижегородская область</td>\n",
       "      <td>80.0</td>\n",
       "    </tr>\n",
       "    <tr>\n",
       "      <th>19</th>\n",
       "      <td>Саратовская область</td>\n",
       "      <td>76.8</td>\n",
       "    </tr>\n",
       "    <tr>\n",
       "      <th>20</th>\n",
       "      <td>Свердловская область</td>\n",
       "      <td>85.8</td>\n",
       "    </tr>\n",
       "    <tr>\n",
       "      <th>21</th>\n",
       "      <td>Челябинская область</td>\n",
       "      <td>82.6</td>\n",
       "    </tr>\n",
       "    <tr>\n",
       "      <th>22</th>\n",
       "      <td>Красноярский край</td>\n",
       "      <td>79.6</td>\n",
       "    </tr>\n",
       "    <tr>\n",
       "      <th>23</th>\n",
       "      <td>Алтайский край</td>\n",
       "      <td>58.3</td>\n",
       "    </tr>\n",
       "    <tr>\n",
       "      <th>24</th>\n",
       "      <td>Новосибирская область</td>\n",
       "      <td>79.7</td>\n",
       "    </tr>\n",
       "    <tr>\n",
       "      <th>25</th>\n",
       "      <td>Магаданская область</td>\n",
       "      <td>96.5</td>\n",
       "    </tr>\n",
       "    <tr>\n",
       "      <th>26</th>\n",
       "      <td>Хабаровский край</td>\n",
       "      <td>83.5</td>\n",
       "    </tr>\n",
       "    <tr>\n",
       "      <th>27</th>\n",
       "      <td>Амурская область</td>\n",
       "      <td>68.4</td>\n",
       "    </tr>\n",
       "  </tbody>\n",
       "</table>\n",
       "</div>"
      ]
     },
     "execution_count": 12,
     "metadata": {},
     "output_type": "execute_result"
    }
   ],
   "execution_count": 12
  },
  {
   "metadata": {},
   "cell_type": "markdown",
   "source": "Сравним среднее по генеральной совокупности и по стратифицированной выборке:",
   "id": "d969157de265459f"
  },
  {
   "metadata": {
    "ExecuteTime": {
     "end_time": "2024-11-19T16:37:19.896769Z",
     "start_time": "2024-11-19T16:37:19.877774Z"
    }
   },
   "cell_type": "code",
   "source": [
    "col_sample = df_sample[\"Значение в 2022\"]\n",
    "mean_sample = col_sample.mean()\n",
    "std_sample = col_sample.std()\n",
    "print(f\"Среднее по генеральной совокупности: {round(mean_pop, 2)}\")\n",
    "print(f\"Среднее по стратифицированной выборке: {round(mean_sample, 2)}\")\n",
    "if mean_pop < mean_sample:\n",
    "    print(f\"Генеральное среднее меньше выборочного\")\n",
    "else:\n",
    "    print(f\"Генеральное среднее больше выборочного\")"
   ],
   "id": "3c42342ec1745d41",
   "outputs": [
    {
     "name": "stdout",
     "output_type": "stream",
     "text": [
      "Среднее по генеральной совокупности: 70.9\n",
      "Среднее по стратифицированной выборке: 72.36\n",
      "Генеральное среднее меньше выборочного\n"
     ]
    }
   ],
   "execution_count": 13
  },
  {
   "metadata": {},
   "cell_type": "markdown",
   "source": "Построим на основе стратифицированной выборки доверительные интервалы для генерального среднего для разных уровней доверия и посмотрим, попадает ли оно в них:",
   "id": "74cdaf3644475036"
  },
  {
   "metadata": {
    "ExecuteTime": {
     "end_time": "2024-11-19T16:37:19.929609Z",
     "start_time": "2024-11-19T16:37:19.896769Z"
    }
   },
   "cell_type": "code",
   "source": [
    "for gamma in (0.99, 0.95, 0.90):\n",
    "    t_crit = t.ppf((1+gamma)/2, size_sample-1)\n",
    "    delta = t_crit * std_sample / sqrt(size_sample) * sqrt((size_pop - size_sample) / (size_pop - 1))\n",
    "    left = mean_sample - delta\n",
    "    right = mean_sample + delta\n",
    "    print(f\"{round(gamma*100)}%-й доверительный интервал для генерального среднего: ({round(left, 2)}, {round(right, 2)})\")\n",
    "    if left < mean_pop < right:\n",
    "        print(f\"Генеральное среднее попадает в {round(gamma*100)}%-й доверительный интервал\")\n",
    "    else:\n",
    "        print(f\"Генеральное среднее не попадает в {round(gamma*100)}%-й доверительный интервал\")"
   ],
   "id": "8677b95d35bd488a",
   "outputs": [
    {
     "name": "stdout",
     "output_type": "stream",
     "text": [
      "99%-й доверительный интервал для генерального среднего: (67.04, 77.68)\n",
      "Генеральное среднее попадает в 99%-й доверительный интервал\n",
      "95%-й доверительный интервал для генерального среднего: (68.42, 76.3)\n",
      "Генеральное среднее попадает в 95%-й доверительный интервал\n",
      "90%-й доверительный интервал для генерального среднего: (69.09, 75.63)\n",
      "Генеральное среднее попадает в 90%-й доверительный интервал\n"
     ]
    }
   ],
   "execution_count": 14
  },
  {
   "metadata": {},
   "cell_type": "markdown",
   "source": [
    "## Выводы\n",
    "В ходе лабораторной работы я проанализировал довольно много наборов данных и пришёл к следующим выводам:\n",
    "1. В сборнике содержится немало коррелирующих признаков.\n",
    "2. Генеральное среднее часто попадает во все доверительные интервалы, построенные как по случайной, так и по стратифицированной выборке.\n"
   ],
   "id": "4ab6c745552ec7a2"
  }
 ],
 "metadata": {
  "kernelspec": {
   "display_name": "Python 3",
   "language": "python",
   "name": "python3"
  },
  "language_info": {
   "codemirror_mode": {
    "name": "ipython",
    "version": 2
   },
   "file_extension": ".py",
   "mimetype": "text/x-python",
   "name": "python",
   "nbconvert_exporter": "python",
   "pygments_lexer": "ipython2",
   "version": "2.7.6"
  }
 },
 "nbformat": 4,
 "nbformat_minor": 5
}
